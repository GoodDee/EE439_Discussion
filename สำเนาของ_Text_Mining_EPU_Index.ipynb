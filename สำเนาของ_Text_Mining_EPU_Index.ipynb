{
  "nbformat": 4,
  "nbformat_minor": 0,
  "metadata": {
    "kernelspec": {
      "display_name": "Python 3",
      "language": "python",
      "name": "python3"
    },
    "language_info": {
      "codemirror_mode": {
        "name": "ipython",
        "version": 3
      },
      "file_extension": ".py",
      "mimetype": "text/x-python",
      "name": "python",
      "nbconvert_exporter": "python",
      "pygments_lexer": "ipython3",
      "version": "3.7.6"
    },
    "colab": {
      "name": "สำเนาของ Text_Mining_EPU_Index.ipynb",
      "provenance": [],
      "include_colab_link": true
    }
  },
  "cells": [
    {
      "cell_type": "markdown",
      "metadata": {
        "id": "view-in-github",
        "colab_type": "text"
      },
      "source": [
        "<a href=\"https://colab.research.google.com/github/GoodDee/EE439_Discussion/blob/main/%E0%B8%AA%E0%B8%B3%E0%B9%80%E0%B8%99%E0%B8%B2%E0%B8%82%E0%B8%AD%E0%B8%87_Text_Mining_EPU_Index.ipynb\" target=\"_parent\"><img src=\"https://colab.research.google.com/assets/colab-badge.svg\" alt=\"Open In Colab\"/></a>"
      ]
    },
    {
      "cell_type": "markdown",
      "metadata": {
        "id": "pgKgT1ZCLUJM"
      },
      "source": [
        "# Text Mining on Newspaper Articles Using NLTK  \n",
        "### EE439 Discussion Session 27 Feb 2021  \n",
        "#### Author: Kantapong Visantavarakul (https://github.com/GoodDee?tab=repositories)"
      ]
    },
    {
      "cell_type": "markdown",
      "metadata": {
        "id": "aIjK4sWLLUJX"
      },
      "source": [
        "## Objectives\n",
        "1. Understand how text mining and data scraping work.  \n",
        "2. Understand the logic behind constructing Economic Policy Index.  \n",
        "3. References:  \n",
        "https://www.youtube.com/watch?v=YzMA2O_v5co&ab_channel=ComputerScience  \n",
        "http://www.nltk.org/book/ch01.html  \n",
        "https://www.kaggle.com/stieranka/text-analysis-operations-using-nltk"
      ]
    },
    {
      "cell_type": "code",
      "metadata": {
        "id": "kttoYjInLUJY",
        "outputId": "40c93e56-e2e2-4787-acee-ab7dd770d7af"
      },
      "source": [
        "%%HTML\n",
        "<img src = \"./Activity_Page.png\", width = 800 />"
      ],
      "execution_count": null,
      "outputs": [
        {
          "output_type": "display_data",
          "data": {
            "text/html": [
              "<img src = \"./Activity_Page.png\", width = 800 />\n"
            ],
            "text/plain": [
              "<IPython.core.display.HTML object>"
            ]
          },
          "metadata": {
            "tags": []
          }
        }
      ]
    },
    {
      "cell_type": "code",
      "metadata": {
        "id": "RIdN-tnQLUJb",
        "colab": {
          "base_uri": "https://localhost:8080/"
        },
        "outputId": "0137690d-b88b-4cc6-cb9b-00267784f9ee"
      },
      "source": [
        "# Download newspaper3k and nltk packages if you have not done so.\n",
        "%pip install newspaper3k\n",
        "%pip install nltk"
      ],
      "execution_count": null,
      "outputs": [
        {
          "output_type": "stream",
          "text": [
            "Collecting newspaper3k\n",
            "\u001b[?25l  Downloading https://files.pythonhosted.org/packages/d7/b9/51afecb35bb61b188a4b44868001de348a0e8134b4dfa00ffc191567c4b9/newspaper3k-0.2.8-py3-none-any.whl (211kB)\n",
            "\u001b[K     |████████████████████████████████| 215kB 5.9MB/s \n",
            "\u001b[?25hRequirement already satisfied: beautifulsoup4>=4.4.1 in /usr/local/lib/python3.7/dist-packages (from newspaper3k) (4.6.3)\n",
            "Collecting tldextract>=2.0.1\n",
            "\u001b[?25l  Downloading https://files.pythonhosted.org/packages/7e/62/b6acd3129c5615b9860e670df07fd55b76175b63e6b7f68282c7cad38e9e/tldextract-3.1.0-py2.py3-none-any.whl (87kB)\n",
            "\u001b[K     |████████████████████████████████| 92kB 5.0MB/s \n",
            "\u001b[?25hRequirement already satisfied: PyYAML>=3.11 in /usr/local/lib/python3.7/dist-packages (from newspaper3k) (3.13)\n",
            "Collecting tinysegmenter==0.3\n",
            "  Downloading https://files.pythonhosted.org/packages/17/82/86982e4b6d16e4febc79c2a1d68ee3b707e8a020c5d2bc4af8052d0f136a/tinysegmenter-0.3.tar.gz\n",
            "Requirement already satisfied: Pillow>=3.3.0 in /usr/local/lib/python3.7/dist-packages (from newspaper3k) (7.0.0)\n",
            "Requirement already satisfied: nltk>=3.2.1 in /usr/local/lib/python3.7/dist-packages (from newspaper3k) (3.2.5)\n",
            "Requirement already satisfied: requests>=2.10.0 in /usr/local/lib/python3.7/dist-packages (from newspaper3k) (2.23.0)\n",
            "Collecting jieba3k>=0.35.1\n",
            "\u001b[?25l  Downloading https://files.pythonhosted.org/packages/a9/cb/2c8332bcdc14d33b0bedd18ae0a4981a069c3513e445120da3c3f23a8aaa/jieba3k-0.35.1.zip (7.4MB)\n",
            "\u001b[K     |████████████████████████████████| 7.4MB 7.2MB/s \n",
            "\u001b[?25hRequirement already satisfied: python-dateutil>=2.5.3 in /usr/local/lib/python3.7/dist-packages (from newspaper3k) (2.8.1)\n",
            "Collecting feedparser>=5.2.1\n",
            "\u001b[?25l  Downloading https://files.pythonhosted.org/packages/1c/21/faf1bac028662cc8adb2b5ef7a6f3999a765baa2835331df365289b0ca56/feedparser-6.0.2-py3-none-any.whl (80kB)\n",
            "\u001b[K     |████████████████████████████████| 81kB 7.2MB/s \n",
            "\u001b[?25hCollecting cssselect>=0.9.2\n",
            "  Downloading https://files.pythonhosted.org/packages/3b/d4/3b5c17f00cce85b9a1e6f91096e1cc8e8ede2e1be8e96b87ce1ed09e92c5/cssselect-1.1.0-py2.py3-none-any.whl\n",
            "Collecting feedfinder2>=0.0.4\n",
            "  Downloading https://files.pythonhosted.org/packages/35/82/1251fefec3bb4b03fd966c7e7f7a41c9fc2bb00d823a34c13f847fd61406/feedfinder2-0.0.4.tar.gz\n",
            "Requirement already satisfied: lxml>=3.6.0 in /usr/local/lib/python3.7/dist-packages (from newspaper3k) (4.2.6)\n",
            "Requirement already satisfied: idna in /usr/local/lib/python3.7/dist-packages (from tldextract>=2.0.1->newspaper3k) (2.10)\n",
            "Requirement already satisfied: filelock>=3.0.8 in /usr/local/lib/python3.7/dist-packages (from tldextract>=2.0.1->newspaper3k) (3.0.12)\n",
            "Collecting requests-file>=1.4\n",
            "  Downloading https://files.pythonhosted.org/packages/77/86/cdb5e8eaed90796aa83a6d9f75cfbd37af553c47a291cd47bc410ef9bdb2/requests_file-1.5.1-py2.py3-none-any.whl\n",
            "Requirement already satisfied: six in /usr/local/lib/python3.7/dist-packages (from nltk>=3.2.1->newspaper3k) (1.15.0)\n",
            "Requirement already satisfied: urllib3!=1.25.0,!=1.25.1,<1.26,>=1.21.1 in /usr/local/lib/python3.7/dist-packages (from requests>=2.10.0->newspaper3k) (1.24.3)\n",
            "Requirement already satisfied: certifi>=2017.4.17 in /usr/local/lib/python3.7/dist-packages (from requests>=2.10.0->newspaper3k) (2020.12.5)\n",
            "Requirement already satisfied: chardet<4,>=3.0.2 in /usr/local/lib/python3.7/dist-packages (from requests>=2.10.0->newspaper3k) (3.0.4)\n",
            "Collecting sgmllib3k\n",
            "  Downloading https://files.pythonhosted.org/packages/9e/bd/3704a8c3e0942d711c1299ebf7b9091930adae6675d7c8f476a7ce48653c/sgmllib3k-1.0.0.tar.gz\n",
            "Building wheels for collected packages: tinysegmenter, jieba3k, feedfinder2, sgmllib3k\n",
            "  Building wheel for tinysegmenter (setup.py) ... \u001b[?25l\u001b[?25hdone\n",
            "  Created wheel for tinysegmenter: filename=tinysegmenter-0.3-cp37-none-any.whl size=13538 sha256=0271fe894acc52f5ff34be6f2919e4a2d6c50cfdf7d80c1eea5c9bc8f37b8b05\n",
            "  Stored in directory: /root/.cache/pip/wheels/81/2b/43/a02ede72324dd40cdd7ca53aad718c7710628e91b8b0dc0f02\n",
            "  Building wheel for jieba3k (setup.py) ... \u001b[?25l\u001b[?25hdone\n",
            "  Created wheel for jieba3k: filename=jieba3k-0.35.1-cp37-none-any.whl size=7398406 sha256=621020fbfc44dd5223e166f7d7807e06092f21186c9e088edf22d25907ffb125\n",
            "  Stored in directory: /root/.cache/pip/wheels/83/15/9c/a3f1f67e7f7181170ad37d32e503c35da20627c013f438ed34\n",
            "  Building wheel for feedfinder2 (setup.py) ... \u001b[?25l\u001b[?25hdone\n",
            "  Created wheel for feedfinder2: filename=feedfinder2-0.0.4-cp37-none-any.whl size=3358 sha256=9c00ec149e1d8ccc80ec63ff01cd2791f31d680a11638d19ff1e9bdc1c058b51\n",
            "  Stored in directory: /root/.cache/pip/wheels/de/03/ca/778e3a7a627e3d98836cc890e7cb40c7575424cfd3340f40ed\n",
            "  Building wheel for sgmllib3k (setup.py) ... \u001b[?25l\u001b[?25hdone\n",
            "  Created wheel for sgmllib3k: filename=sgmllib3k-1.0.0-cp37-none-any.whl size=6067 sha256=881023dec69474d9078cf1076b86d393cadc770e802001e18785fec7f9e18dc5\n",
            "  Stored in directory: /root/.cache/pip/wheels/f1/80/5a/444ba08a550cdd241bd9baf8bae44be750efe370adb944506a\n",
            "Successfully built tinysegmenter jieba3k feedfinder2 sgmllib3k\n",
            "Installing collected packages: requests-file, tldextract, tinysegmenter, jieba3k, sgmllib3k, feedparser, cssselect, feedfinder2, newspaper3k\n",
            "Successfully installed cssselect-1.1.0 feedfinder2-0.0.4 feedparser-6.0.2 jieba3k-0.35.1 newspaper3k-0.2.8 requests-file-1.5.1 sgmllib3k-1.0.0 tinysegmenter-0.3 tldextract-3.1.0\n",
            "Requirement already satisfied: nltk in /usr/local/lib/python3.7/dist-packages (3.2.5)\n",
            "Requirement already satisfied: six in /usr/local/lib/python3.7/dist-packages (from nltk) (1.15.0)\n"
          ],
          "name": "stdout"
        }
      ]
    },
    {
      "cell_type": "markdown",
      "metadata": {
        "id": "mGnJqvAHLUJc"
      },
      "source": [
        "### STEP 1: Newspaper Scraping from the Web  \n",
        "The objective is to fetch the newspaper from the website without copying and pasting the text into the console."
      ]
    },
    {
      "cell_type": "code",
      "metadata": {
        "id": "KAyB-OqqLUJc"
      },
      "source": [
        "import nltk\n",
        "from nltk.tokenize import sent_tokenize\n",
        "from nltk.tokenize import word_tokenize\n",
        "from nltk.stem import PorterStemmer\n",
        "from nltk.stem.wordnet import WordNetLemmatizer\n",
        "\n",
        "from newspaper import Article"
      ],
      "execution_count": null,
      "outputs": []
    },
    {
      "cell_type": "code",
      "metadata": {
        "id": "Symtue8wLUJd"
      },
      "source": [
        "# Create two article instances using Article from newspaper package\n",
        "URL1 = \"https://www.bangkokpost.com/business/2075355/excise-mulls-delaying-drink-tax-hike\"\n",
        "URL2 = \"https://www.bangkokpost.com/business/2075363/tour-operators-flail-amid-industry-disruption\"\n",
        "article1 = Article(URL1)\n",
        "article2 = Article(URL2)"
      ],
      "execution_count": null,
      "outputs": []
    },
    {
      "cell_type": "code",
      "metadata": {
        "id": "IwGTXQ10LUJd"
      },
      "source": [
        "# Download two articles\n",
        "article1.download()\n",
        "article2.download()"
      ],
      "execution_count": null,
      "outputs": []
    },
    {
      "cell_type": "code",
      "metadata": {
        "id": "uooa2Ko-LUJe"
      },
      "source": [
        "# Parse these two articles\n",
        "article1.parse()\n",
        "article2.parse()"
      ],
      "execution_count": null,
      "outputs": []
    },
    {
      "cell_type": "code",
      "metadata": {
        "id": "ULHch__2LUJe",
        "colab": {
          "base_uri": "https://localhost:8080/"
        },
        "outputId": "601f67d2-95ab-409d-ebf4-90f5bba78b26"
      },
      "source": [
        "# Download punkt if you have not done so. This is used for tokenizing.\n",
        "nltk.download('punkt')"
      ],
      "execution_count": null,
      "outputs": [
        {
          "output_type": "stream",
          "text": [
            "[nltk_data] Downloading package punkt to /root/nltk_data...\n",
            "[nltk_data]   Unzipping tokenizers/punkt.zip.\n"
          ],
          "name": "stdout"
        },
        {
          "output_type": "execute_result",
          "data": {
            "text/plain": [
              "True"
            ]
          },
          "metadata": {
            "tags": []
          },
          "execution_count": 6
        }
      ]
    },
    {
      "cell_type": "code",
      "metadata": {
        "id": "d4Ry4TVVLUJf"
      },
      "source": [
        "# Process sentence tokenization on these two articles\n",
        "article1.nlp()\n",
        "article2.nlp()"
      ],
      "execution_count": null,
      "outputs": []
    },
    {
      "cell_type": "code",
      "metadata": {
        "id": "uzDX7FOkLUJf",
        "colab": {
          "base_uri": "https://localhost:8080/"
        },
        "outputId": "0fd4bb6f-ef5a-43af-be46-593bd723768a"
      },
      "source": [
        "print(\"The author of first article is {}\".format(article1.authors[0]))\n",
        "print(\"The author of first article is {}\".format(article2.authors[0]))"
      ],
      "execution_count": null,
      "outputs": [
        {
          "output_type": "stream",
          "text": [
            "The author of first article is Bangkok Post Public Company Limited\n",
            "The author of first article is Bangkok Post Public Company Limited\n"
          ],
          "name": "stdout"
        }
      ]
    },
    {
      "cell_type": "code",
      "metadata": {
        "id": "-a2hwZAOLUJg",
        "colab": {
          "base_uri": "https://localhost:8080/"
        },
        "outputId": "65140f1f-5493-4380-f6b6-ea0cc5bb7624"
      },
      "source": [
        "# Let's see what is inside this article\n",
        "print(article1.text)\n",
        "print(article2.text)"
      ],
      "execution_count": null,
      "outputs": [
        {
          "output_type": "stream",
          "text": [
            "Beverages on display at a convenience store. The first phase of Thailand's excise tax on sugary drinks came into force on Sept 16, 2017.\n",
            "\n",
            "The Excise Department is considering freezing the step-up hike of the excise levy placed on drinks with a sugar-based sweetener to reduce business operators' financial burdens.\n",
            "\n",
            "The amended excise tax structure on beverages came into force in 2017, adding a levy to sugar-based sweeteners on top of the excise duty charged on beverages.\n",
            "\n",
            "The added excise tax on sugar-based sweetener gradually increases over four phases, intended to help entrepreneurs adjust to the higher tax burden, said Lavaron Sangsnit, director-general of the Excise Department.\n",
            "\n",
            "Thailand has applied the new excise tax on sugary drinks, cigarettes, alcoholic beverages and imported wine since Sept 16, 2017. The levy on sugary drinks is capped at 20%, with beverages containing more sugar carrying a larger tax burden than less sweetened beverages.\n",
            "\n",
            "The new rates rise on a gradual basis over four phases: Sept 16, 2017 to Sept 30, 2019; Oct 1, 2019 to Sept 30, 2021; Oct 1, 2021 to Sept 30, 2023; and from Oct 1, 2023.\n",
            "\n",
            "Sugary drinks subject to the tax are carbonated soft drinks, energy and electrolyte drinks, fruit and vegetable juices, and sweetening agents.\n",
            "\n",
            "With the third phase set to commence on Oct 1 this year, a considerable hike in the sugary drinks tax could affect business operators who are suffering from the Covid-19 crisis, said Mr Lavaron.\n",
            "\n",
            "The Excise Department could postpone the third-phase implementation, but the length of this deferment has not been finalised, he said.\n",
            "\n",
            "The department classified sugar content in beverages into six levels based on a volume of 100 millilitres: below six grammes, 6-8g, 8-10g, 10-14g, 14-18g, and more than 18g.\n",
            "\n",
            "No sugary drinks tax is levied on sugar content of 6g in a 100ml beverage. But sugar content that exceeds 14g per 100ml, but no more than 18g, is liable for an additional three-baht excise duty per litre. The rate is set to increase to five baht on Oct 1 if the third-phase implementation is not deferred.\n",
            "\n",
            "The Excise Department is studying taxation for salty foods, but Mr Lavaron said the department will not roll out any new excise tax measures this year because it would add a burden for both businesses and consumers. The department opted instead to increase tax collection efficiency to meet its excise tax collection target of 550 billion baht for fiscal 2021, he said.\n",
            "Thanapol Cheewarattanaporn, president of the Association of Domestic Travel.\n",
            "\n",
            "The global pandemic marks the most severe crisis in 60 years for Thai tourism as the number of international arrivals bottomed out at 6.7 million last year, compared with nearly 40 million in 2019.\n",
            "\n",
            "With tight border controls, the outbound market also experienced a nosedive, from 11 million trips in 2019 to only 1 million last year.\n",
            "\n",
            "Tour operators, a major driver in the local economy, inevitably struggled to maintain business after the virus spread last year, with vaccination unlikely to save tourism until late this year at the earliest.\n",
            "\n",
            "Thanapol Cheewarattanaporn, a tourism veteran who worked in the industry for more than 30 years supervising a number of tour companies, said everything was razed to the ground after confronting an unprecedented global crisis.\n",
            "\n",
            "After working as a tour guide for visitors from the mainland for several years, he took a general manager post at Quality Express, a family business established in November 1999, conducting both inbound and outbound tours.\n",
            "\n",
            "Quality Express is widely known among locals as an outbound tour operator, with a market share of 10-15% to popular destinations such as China, Japan and Vietnam, and a market share of 30% in Eastern Europe.\n",
            "\n",
            "Back in 1999, the company targeted the mid-scale market with affordable prices to give people overseas travel experiences, he said.\n",
            "\n",
            "Prior to the outbreak, the outbound market witnessed impressive growth. The company was able to diversify to cruise tours in 2018, such as three-night trips from Bangkok (Laem Chabang port) to Singapore, or river cruises in Europe.\n",
            "\n",
            "Apart from retail tour packages, Mr Thanapol also set up Go Holiday Tour in March 2006 as a one-stop wholesale travel agent to offer tourism products and services for other tour companies.\n",
            "\n",
            "Go Holiday was able to capture market shares for outbound and inbound tourism of around 20% and 15%, respectively.\n",
            "\n",
            "Tangmotour, a domestic and outbound tour company, was established in May 2009 as Mr Thanapol saw opportunities in the domestic market.\n",
            "\n",
            "He said there was demand from customers who wanted to explore more of the country instead of travelling abroad.\n",
            "\n",
            "\"Local destinations were like dark horses. We had a million tourists fly across the globe to visit our country, but we overlooked these places as we lived too close to them,\" said Mr Thanapol. \"I would like to highlight domestic tourism to locals more.\"\n",
            "\n",
            "Tangmotour has an 8% market share. He said the domestic market is the focus to sustain business until borders are reopened.\n",
            "\n",
            "\"Many countries including Thailand face new waves of infections, while vaccine roll-outs and reopening policies remain unclear,\" said Mr Thanapol, president of Tangmotour. \"The only way out is to shift to domestic tourism.\"\n",
            "\n",
            "As there is high volatility in local infections, the company has revised its business plan on a daily basis, he said.\n",
            "\n",
            "Mr Thanapol estimated inbound tourists from Asia will come back by October, while the outbound market is expected to restart early next year in Southeast Asia, followed by Asia in general, if the country can procure more vaccines for mass inoculations.\n",
            "\n",
            "Most importantly, tourism activity including inbound and outbound travel during the first stages needs to be conducted by tour operators to ensure a high level of safety, allowing for better communication with tourists in case of a virus alert, he said.\n",
            "\n",
            "\"It might take around four years to climb back to the same level of revenue in 2019, assuming tourists don't have to undergo quarantine,\" said Mr Thanapol.\n",
            "\n",
            "The number of staff at tourism companies is 20% of levels before the pandemic, down from 200 people to 40 on average, in an effort to streamline costs and secure liquidity, he said.\n",
            "\n",
            "Go Holiday Tour had to close temporarily.\n",
            "\n",
            "Mr Thanapol said a recovery in domestic tourism started to take shape during the fourth quarter last year. His company called staff back to work to prepare for more stimulus campaigns, such as the senior travellers' stimulus, which awaits cabinet approval.\n",
            "\n",
            "Yet the new outbreak may cloud the future of this market until the end of March, as everyone wants to be assured of containment success, he said.\n",
            "\n",
            "Mr Thanapol said the pandemic is a catalyst for tourism disruption.\n",
            "\n",
            "Travel companies have to adapt for digital transformation within 3-5 years because of changes in consumer behaviour and the stagnant economy, he said. This means shifting the way they do business from offline to online platforms.\n",
            "\n",
            "Prior to the outbreak, his companies created an online store, allowing tourists to select tour packages.\n",
            "\n",
            "Mr Thanapol, who is also president of the Association of Domestic Travel, said the government plays a crucial role in promoting domestic trips by subsidising travel costs.\n",
            "\n",
            "He urged the government to help tour operators by encouraging state agencies to take more domestic trips because this segment still has purchasing power.\n",
            "\n",
            "\"Over the past year, tourism operators submitted to the government many proposals that could have helped staff and their families, but most of them hit a dead end,\" said Mr Thanapol.\n",
            "\n",
            "If the government cannot offer financial aid, it should at least stimulate more demand by introducing new tourism campaigns, he said. This support helps operators generate income while waiting for the country to reopen.\n",
            "\n",
            "The association cut the goal for domestic trips from 200 million to 150 million this year. Mr Thanapol said the strength of the tourism rebound will largely depend on the pace of vaccinations as well as the confidence of domestic tourists.\n"
          ],
          "name": "stdout"
        }
      ]
    },
    {
      "cell_type": "code",
      "metadata": {
        "id": "YDCLaJThLUJg",
        "colab": {
          "base_uri": "https://localhost:8080/"
        },
        "outputId": "4f5411c4-625e-4706-e79b-78b386274241"
      },
      "source": [
        "# You can output the summary if you want to\n",
        "print(article1.summary)\n",
        "print(article2.summary)"
      ],
      "execution_count": null,
      "outputs": [
        {
          "output_type": "stream",
          "text": [
            "The first phase of Thailand's excise tax on sugary drinks came into force on Sept 16, 2017.\n",
            "The added excise tax on sugar-based sweetener gradually increases over four phases, intended to help entrepreneurs adjust to the higher tax burden, said Lavaron Sangsnit, director-general of the Excise Department.\n",
            "Thailand has applied the new excise tax on sugary drinks, cigarettes, alcoholic beverages and imported wine since Sept 16, 2017.\n",
            "The Excise Department could postpone the third-phase implementation, but the length of this deferment has not been finalised, he said.\n",
            "The department opted instead to increase tax collection efficiency to meet its excise tax collection target of 550 billion baht for fiscal 2021, he said.\n",
            "With tight border controls, the outbound market also experienced a nosedive, from 11 million trips in 2019 to only 1 million last year.\n",
            "Apart from retail tour packages, Mr Thanapol also set up Go Holiday Tour in March 2006 as a one-stop wholesale travel agent to offer tourism products and services for other tour companies.\n",
            "Tangmotour, a domestic and outbound tour company, was established in May 2009 as Mr Thanapol saw opportunities in the domestic market.\n",
            "Mr Thanapol said a recovery in domestic tourism started to take shape during the fourth quarter last year.\n",
            "He urged the government to help tour operators by encouraging state agencies to take more domestic trips because this segment still has purchasing power.\n"
          ],
          "name": "stdout"
        }
      ]
    },
    {
      "cell_type": "code",
      "metadata": {
        "id": "ZyiSLrcXLUJh",
        "colab": {
          "base_uri": "https://localhost:8080/"
        },
        "outputId": "d6557363-be9b-4489-ad62-60f5dbdaaa52"
      },
      "source": [
        "# Guess what type of article2.text is? (A. string B. List)\n",
        "type(article2.text)"
      ],
      "execution_count": null,
      "outputs": [
        {
          "output_type": "execute_result",
          "data": {
            "text/plain": [
              "str"
            ]
          },
          "metadata": {
            "tags": []
          },
          "execution_count": 16
        }
      ]
    },
    {
      "cell_type": "markdown",
      "metadata": {
        "id": "8yf9DP7sLUJh"
      },
      "source": [
        "### STEP 2: Tokenize the text that we scraped into words that can be used later  \n",
        "The objective is to split the article into words such that we can further process and compute Economic Policy Uncertainty (EPU) Index in the final step."
      ]
    },
    {
      "cell_type": "code",
      "metadata": {
        "id": "yHi5Tz2LLUJi",
        "colab": {
          "base_uri": "https://localhost:8080/"
        },
        "outputId": "3cff99d0-9416-4eaf-dfa4-99fedb92912a"
      },
      "source": [
        "# Tokenize the text into sentences\n",
        "tokenized_text1=sent_tokenize(article1.text)\n",
        "tokenized_text2=sent_tokenize(article2.text)\n",
        "print(tokenized_text2[0])"
      ],
      "execution_count": null,
      "outputs": [
        {
          "output_type": "stream",
          "text": [
            "Thanapol Cheewarattanaporn, president of the Association of Domestic Travel.\n"
          ],
          "name": "stdout"
        }
      ]
    },
    {
      "cell_type": "code",
      "metadata": {
        "id": "iDpGpsrqLUJj",
        "colab": {
          "base_uri": "https://localhost:8080/"
        },
        "outputId": "4bf3953c-ffac-4231-e84b-01aca1460862"
      },
      "source": [
        "# Tokenize the text into words (that is what we want!) and remove punctuations from consideration + make them all small letters\n",
        "tokenized_word1=word_tokenize(article1.text)\n",
        "words_1 =[word.lower() for word in tokenized_word1 if word.isalpha()]\n",
        "\n",
        "tokenized_word2=word_tokenize(article2.text)\n",
        "words_2 =[word.lower() for word in tokenized_word2 if word.isalpha()]\n",
        "print(words_2)"
      ],
      "execution_count": null,
      "outputs": [
        {
          "output_type": "stream",
          "text": [
            "['thanapol', 'cheewarattanaporn', 'president', 'of', 'the', 'association', 'of', 'domestic', 'travel', 'the', 'global', 'pandemic', 'marks', 'the', 'most', 'severe', 'crisis', 'in', 'years', 'for', 'thai', 'tourism', 'as', 'the', 'number', 'of', 'international', 'arrivals', 'bottomed', 'out', 'at', 'million', 'last', 'year', 'compared', 'with', 'nearly', 'million', 'in', 'with', 'tight', 'border', 'controls', 'the', 'outbound', 'market', 'also', 'experienced', 'a', 'nosedive', 'from', 'million', 'trips', 'in', 'to', 'only', 'million', 'last', 'year', 'tour', 'operators', 'a', 'major', 'driver', 'in', 'the', 'local', 'economy', 'inevitably', 'struggled', 'to', 'maintain', 'business', 'after', 'the', 'virus', 'spread', 'last', 'year', 'with', 'vaccination', 'unlikely', 'to', 'save', 'tourism', 'until', 'late', 'this', 'year', 'at', 'the', 'earliest', 'thanapol', 'cheewarattanaporn', 'a', 'tourism', 'veteran', 'who', 'worked', 'in', 'the', 'industry', 'for', 'more', 'than', 'years', 'supervising', 'a', 'number', 'of', 'tour', 'companies', 'said', 'everything', 'was', 'razed', 'to', 'the', 'ground', 'after', 'confronting', 'an', 'unprecedented', 'global', 'crisis', 'after', 'working', 'as', 'a', 'tour', 'guide', 'for', 'visitors', 'from', 'the', 'mainland', 'for', 'several', 'years', 'he', 'took', 'a', 'general', 'manager', 'post', 'at', 'quality', 'express', 'a', 'family', 'business', 'established', 'in', 'november', 'conducting', 'both', 'inbound', 'and', 'outbound', 'tours', 'quality', 'express', 'is', 'widely', 'known', 'among', 'locals', 'as', 'an', 'outbound', 'tour', 'operator', 'with', 'a', 'market', 'share', 'of', 'to', 'popular', 'destinations', 'such', 'as', 'china', 'japan', 'and', 'vietnam', 'and', 'a', 'market', 'share', 'of', 'in', 'eastern', 'europe', 'back', 'in', 'the', 'company', 'targeted', 'the', 'market', 'with', 'affordable', 'prices', 'to', 'give', 'people', 'overseas', 'travel', 'experiences', 'he', 'said', 'prior', 'to', 'the', 'outbreak', 'the', 'outbound', 'market', 'witnessed', 'impressive', 'growth', 'the', 'company', 'was', 'able', 'to', 'diversify', 'to', 'cruise', 'tours', 'in', 'such', 'as', 'trips', 'from', 'bangkok', 'laem', 'chabang', 'port', 'to', 'singapore', 'or', 'river', 'cruises', 'in', 'europe', 'apart', 'from', 'retail', 'tour', 'packages', 'mr', 'thanapol', 'also', 'set', 'up', 'go', 'holiday', 'tour', 'in', 'march', 'as', 'a', 'wholesale', 'travel', 'agent', 'to', 'offer', 'tourism', 'products', 'and', 'services', 'for', 'other', 'tour', 'companies', 'go', 'holiday', 'was', 'able', 'to', 'capture', 'market', 'shares', 'for', 'outbound', 'and', 'inbound', 'tourism', 'of', 'around', 'and', 'respectively', 'tangmotour', 'a', 'domestic', 'and', 'outbound', 'tour', 'company', 'was', 'established', 'in', 'may', 'as', 'mr', 'thanapol', 'saw', 'opportunities', 'in', 'the', 'domestic', 'market', 'he', 'said', 'there', 'was', 'demand', 'from', 'customers', 'who', 'wanted', 'to', 'explore', 'more', 'of', 'the', 'country', 'instead', 'of', 'travelling', 'abroad', 'local', 'destinations', 'were', 'like', 'dark', 'horses', 'we', 'had', 'a', 'million', 'tourists', 'fly', 'across', 'the', 'globe', 'to', 'visit', 'our', 'country', 'but', 'we', 'overlooked', 'these', 'places', 'as', 'we', 'lived', 'too', 'close', 'to', 'them', 'said', 'mr', 'thanapol', 'i', 'would', 'like', 'to', 'highlight', 'domestic', 'tourism', 'to', 'locals', 'more', 'tangmotour', 'has', 'an', 'market', 'share', 'he', 'said', 'the', 'domestic', 'market', 'is', 'the', 'focus', 'to', 'sustain', 'business', 'until', 'borders', 'are', 'reopened', 'many', 'countries', 'including', 'thailand', 'face', 'new', 'waves', 'of', 'infections', 'while', 'vaccine', 'and', 'reopening', 'policies', 'remain', 'unclear', 'said', 'mr', 'thanapol', 'president', 'of', 'tangmotour', 'the', 'only', 'way', 'out', 'is', 'to', 'shift', 'to', 'domestic', 'tourism', 'as', 'there', 'is', 'high', 'volatility', 'in', 'local', 'infections', 'the', 'company', 'has', 'revised', 'its', 'business', 'plan', 'on', 'a', 'daily', 'basis', 'he', 'said', 'mr', 'thanapol', 'estimated', 'inbound', 'tourists', 'from', 'asia', 'will', 'come', 'back', 'by', 'october', 'while', 'the', 'outbound', 'market', 'is', 'expected', 'to', 'restart', 'early', 'next', 'year', 'in', 'southeast', 'asia', 'followed', 'by', 'asia', 'in', 'general', 'if', 'the', 'country', 'can', 'procure', 'more', 'vaccines', 'for', 'mass', 'inoculations', 'most', 'importantly', 'tourism', 'activity', 'including', 'inbound', 'and', 'outbound', 'travel', 'during', 'the', 'first', 'stages', 'needs', 'to', 'be', 'conducted', 'by', 'tour', 'operators', 'to', 'ensure', 'a', 'high', 'level', 'of', 'safety', 'allowing', 'for', 'better', 'communication', 'with', 'tourists', 'in', 'case', 'of', 'a', 'virus', 'alert', 'he', 'said', 'it', 'might', 'take', 'around', 'four', 'years', 'to', 'climb', 'back', 'to', 'the', 'same', 'level', 'of', 'revenue', 'in', 'assuming', 'tourists', 'do', 'have', 'to', 'undergo', 'quarantine', 'said', 'mr', 'thanapol', 'the', 'number', 'of', 'staff', 'at', 'tourism', 'companies', 'is', 'of', 'levels', 'before', 'the', 'pandemic', 'down', 'from', 'people', 'to', 'on', 'average', 'in', 'an', 'effort', 'to', 'streamline', 'costs', 'and', 'secure', 'liquidity', 'he', 'said', 'go', 'holiday', 'tour', 'had', 'to', 'close', 'temporarily', 'mr', 'thanapol', 'said', 'a', 'recovery', 'in', 'domestic', 'tourism', 'started', 'to', 'take', 'shape', 'during', 'the', 'fourth', 'quarter', 'last', 'year', 'his', 'company', 'called', 'staff', 'back', 'to', 'work', 'to', 'prepare', 'for', 'more', 'stimulus', 'campaigns', 'such', 'as', 'the', 'senior', 'travellers', 'stimulus', 'which', 'awaits', 'cabinet', 'approval', 'yet', 'the', 'new', 'outbreak', 'may', 'cloud', 'the', 'future', 'of', 'this', 'market', 'until', 'the', 'end', 'of', 'march', 'as', 'everyone', 'wants', 'to', 'be', 'assured', 'of', 'containment', 'success', 'he', 'said', 'mr', 'thanapol', 'said', 'the', 'pandemic', 'is', 'a', 'catalyst', 'for', 'tourism', 'disruption', 'travel', 'companies', 'have', 'to', 'adapt', 'for', 'digital', 'transformation', 'within', 'years', 'because', 'of', 'changes', 'in', 'consumer', 'behaviour', 'and', 'the', 'stagnant', 'economy', 'he', 'said', 'this', 'means', 'shifting', 'the', 'way', 'they', 'do', 'business', 'from', 'offline', 'to', 'online', 'platforms', 'prior', 'to', 'the', 'outbreak', 'his', 'companies', 'created', 'an', 'online', 'store', 'allowing', 'tourists', 'to', 'select', 'tour', 'packages', 'mr', 'thanapol', 'who', 'is', 'also', 'president', 'of', 'the', 'association', 'of', 'domestic', 'travel', 'said', 'the', 'government', 'plays', 'a', 'crucial', 'role', 'in', 'promoting', 'domestic', 'trips', 'by', 'subsidising', 'travel', 'costs', 'he', 'urged', 'the', 'government', 'to', 'help', 'tour', 'operators', 'by', 'encouraging', 'state', 'agencies', 'to', 'take', 'more', 'domestic', 'trips', 'because', 'this', 'segment', 'still', 'has', 'purchasing', 'power', 'over', 'the', 'past', 'year', 'tourism', 'operators', 'submitted', 'to', 'the', 'government', 'many', 'proposals', 'that', 'could', 'have', 'helped', 'staff', 'and', 'their', 'families', 'but', 'most', 'of', 'them', 'hit', 'a', 'dead', 'end', 'said', 'mr', 'thanapol', 'if', 'the', 'government', 'can', 'not', 'offer', 'financial', 'aid', 'it', 'should', 'at', 'least', 'stimulate', 'more', 'demand', 'by', 'introducing', 'new', 'tourism', 'campaigns', 'he', 'said', 'this', 'support', 'helps', 'operators', 'generate', 'income', 'while', 'waiting', 'for', 'the', 'country', 'to', 'reopen', 'the', 'association', 'cut', 'the', 'goal', 'for', 'domestic', 'trips', 'from', 'million', 'to', 'million', 'this', 'year', 'mr', 'thanapol', 'said', 'the', 'strength', 'of', 'the', 'tourism', 'rebound', 'will', 'largely', 'depend', 'on', 'the', 'pace', 'of', 'vaccinations', 'as', 'well', 'as', 'the', 'confidence', 'of', 'domestic', 'tourists']\n"
          ],
          "name": "stdout"
        }
      ]
    },
    {
      "cell_type": "code",
      "metadata": {
        "id": "VkBIjxr2LUJj",
        "colab": {
          "base_uri": "https://localhost:8080/"
        },
        "outputId": "1ae42a05-14c2-44fc-c35d-0ae4cb72c327"
      },
      "source": [
        "# Download stopwords if you have not done so\n",
        "nltk.download('stopwords')"
      ],
      "execution_count": null,
      "outputs": [
        {
          "output_type": "stream",
          "text": [
            "[nltk_data] Downloading package stopwords to /root/nltk_data...\n",
            "[nltk_data]   Unzipping corpora/stopwords.zip.\n"
          ],
          "name": "stdout"
        },
        {
          "output_type": "execute_result",
          "data": {
            "text/plain": [
              "True"
            ]
          },
          "metadata": {
            "tags": []
          },
          "execution_count": 7
        }
      ]
    },
    {
      "cell_type": "code",
      "metadata": {
        "id": "wU19_l7TLUJk",
        "colab": {
          "base_uri": "https://localhost:8080/"
        },
        "outputId": "e032d6e2-10d1-4174-9afd-b1b1af2eed8a"
      },
      "source": [
        "# Take a look at stopwords\n",
        "from nltk.corpus import stopwords\n",
        "stop_words=set(stopwords.words(\"english\"))\n",
        "print(stop_words)"
      ],
      "execution_count": null,
      "outputs": [
        {
          "output_type": "stream",
          "text": [
            "{\"it's\", 'further', 'itself', 'to', 'm', \"mightn't\", \"aren't\", 'themselves', 'most', 'has', 'so', \"weren't\", \"isn't\", \"couldn't\", \"you'd\", 'then', 'those', 'y', \"hadn't\", 'over', 'until', 'with', 'o', 'having', 'haven', 'why', 're', 'shan', 'too', 'hadn', 'isn', 'i', 'there', 'same', 'down', 'hasn', 'each', 'this', 'hers', 'himself', 'and', 'after', 'now', 'be', \"you're\", 'during', 'will', 'you', 'some', \"doesn't\", 'mightn', 'was', 'll', 'your', 'which', 'all', 'his', 'is', 'up', 'against', 'being', 'myself', 'aren', 'by', 'about', 'mustn', 'before', 'both', 'through', 'didn', \"you've\", 'not', 'have', 'these', 'my', 'how', 'as', 'off', 'more', 'he', 'of', 'that', 'were', \"needn't\", 'our', 'did', 'don', 'but', 'or', \"shan't\", 'had', 'theirs', 'once', 'what', 'few', 'just', 'if', 'them', 'do', 'does', 'the', 'below', \"don't\", 'wasn', 'than', 'd', 'her', 'me', \"wouldn't\", \"mustn't\", 'very', 'under', 'been', \"didn't\", 'own', 'couldn', 'in', 'am', 'here', \"haven't\", 'an', \"should've\", 'any', 'yours', 'their', 'weren', \"hasn't\", 'from', 'him', 'we', 'ain', \"won't\", 't', 'into', 'a', 'for', 'at', \"shouldn't\", \"you'll\", 'who', 'no', 'nor', 'can', \"wasn't\", 's', 'ours', 'wouldn', 'won', 'needn', \"she's\", 'when', 'doesn', 'doing', 'while', 'above', 'should', 'they', 'its', 'shouldn', 'yourselves', \"that'll\", 'are', 'ma', 'between', 'again', 'she', 'on', 'yourself', 'it', 'out', 'other', 'only', 'herself', 'where', 've', 'because', 'ourselves', 'whom', 'such'}\n"
          ],
          "name": "stdout"
        }
      ]
    },
    {
      "cell_type": "code",
      "metadata": {
        "id": "fRl9n_NQLUJk"
      },
      "source": [
        "# Define a helper function to remove all stop words\n",
        "def RemoveStopWords(tokenized_words):\n",
        "    NoStopList = []\n",
        "    for word in tokenized_words:\n",
        "        if word not in stop_words:\n",
        "            NoStopList.append(word)\n",
        "    return NoStopList"
      ],
      "execution_count": null,
      "outputs": []
    },
    {
      "cell_type": "code",
      "metadata": {
        "id": "B6_p07_ELUJl",
        "colab": {
          "base_uri": "https://localhost:8080/"
        },
        "outputId": "38b7d485-6eaa-443b-effe-556a0f1c241a"
      },
      "source": [
        "words_1 = RemoveStopWords(words_1)\n",
        "words_2 = RemoveStopWords(words_2)\n",
        "\n",
        "print(words_2)"
      ],
      "execution_count": null,
      "outputs": [
        {
          "output_type": "stream",
          "text": [
            "['thanapol', 'cheewarattanaporn', 'president', 'association', 'domestic', 'travel', 'global', 'pandemic', 'marks', 'severe', 'crisis', 'years', 'thai', 'tourism', 'number', 'international', 'arrivals', 'bottomed', 'million', 'last', 'year', 'compared', 'nearly', 'million', 'tight', 'border', 'controls', 'outbound', 'market', 'also', 'experienced', 'nosedive', 'million', 'trips', 'million', 'last', 'year', 'tour', 'operators', 'major', 'driver', 'local', 'economy', 'inevitably', 'struggled', 'maintain', 'business', 'virus', 'spread', 'last', 'year', 'vaccination', 'unlikely', 'save', 'tourism', 'late', 'year', 'earliest', 'thanapol', 'cheewarattanaporn', 'tourism', 'veteran', 'worked', 'industry', 'years', 'supervising', 'number', 'tour', 'companies', 'said', 'everything', 'razed', 'ground', 'confronting', 'unprecedented', 'global', 'crisis', 'working', 'tour', 'guide', 'visitors', 'mainland', 'several', 'years', 'took', 'general', 'manager', 'post', 'quality', 'express', 'family', 'business', 'established', 'november', 'conducting', 'inbound', 'outbound', 'tours', 'quality', 'express', 'widely', 'known', 'among', 'locals', 'outbound', 'tour', 'operator', 'market', 'share', 'popular', 'destinations', 'china', 'japan', 'vietnam', 'market', 'share', 'eastern', 'europe', 'back', 'company', 'targeted', 'market', 'affordable', 'prices', 'give', 'people', 'overseas', 'travel', 'experiences', 'said', 'prior', 'outbreak', 'outbound', 'market', 'witnessed', 'impressive', 'growth', 'company', 'able', 'diversify', 'cruise', 'tours', 'trips', 'bangkok', 'laem', 'chabang', 'port', 'singapore', 'river', 'cruises', 'europe', 'apart', 'retail', 'tour', 'packages', 'mr', 'thanapol', 'also', 'set', 'go', 'holiday', 'tour', 'march', 'wholesale', 'travel', 'agent', 'offer', 'tourism', 'products', 'services', 'tour', 'companies', 'go', 'holiday', 'able', 'capture', 'market', 'shares', 'outbound', 'inbound', 'tourism', 'around', 'respectively', 'tangmotour', 'domestic', 'outbound', 'tour', 'company', 'established', 'may', 'mr', 'thanapol', 'saw', 'opportunities', 'domestic', 'market', 'said', 'demand', 'customers', 'wanted', 'explore', 'country', 'instead', 'travelling', 'abroad', 'local', 'destinations', 'like', 'dark', 'horses', 'million', 'tourists', 'fly', 'across', 'globe', 'visit', 'country', 'overlooked', 'places', 'lived', 'close', 'said', 'mr', 'thanapol', 'would', 'like', 'highlight', 'domestic', 'tourism', 'locals', 'tangmotour', 'market', 'share', 'said', 'domestic', 'market', 'focus', 'sustain', 'business', 'borders', 'reopened', 'many', 'countries', 'including', 'thailand', 'face', 'new', 'waves', 'infections', 'vaccine', 'reopening', 'policies', 'remain', 'unclear', 'said', 'mr', 'thanapol', 'president', 'tangmotour', 'way', 'shift', 'domestic', 'tourism', 'high', 'volatility', 'local', 'infections', 'company', 'revised', 'business', 'plan', 'daily', 'basis', 'said', 'mr', 'thanapol', 'estimated', 'inbound', 'tourists', 'asia', 'come', 'back', 'october', 'outbound', 'market', 'expected', 'restart', 'early', 'next', 'year', 'southeast', 'asia', 'followed', 'asia', 'general', 'country', 'procure', 'vaccines', 'mass', 'inoculations', 'importantly', 'tourism', 'activity', 'including', 'inbound', 'outbound', 'travel', 'first', 'stages', 'needs', 'conducted', 'tour', 'operators', 'ensure', 'high', 'level', 'safety', 'allowing', 'better', 'communication', 'tourists', 'case', 'virus', 'alert', 'said', 'might', 'take', 'around', 'four', 'years', 'climb', 'back', 'level', 'revenue', 'assuming', 'tourists', 'undergo', 'quarantine', 'said', 'mr', 'thanapol', 'number', 'staff', 'tourism', 'companies', 'levels', 'pandemic', 'people', 'average', 'effort', 'streamline', 'costs', 'secure', 'liquidity', 'said', 'go', 'holiday', 'tour', 'close', 'temporarily', 'mr', 'thanapol', 'said', 'recovery', 'domestic', 'tourism', 'started', 'take', 'shape', 'fourth', 'quarter', 'last', 'year', 'company', 'called', 'staff', 'back', 'work', 'prepare', 'stimulus', 'campaigns', 'senior', 'travellers', 'stimulus', 'awaits', 'cabinet', 'approval', 'yet', 'new', 'outbreak', 'may', 'cloud', 'future', 'market', 'end', 'march', 'everyone', 'wants', 'assured', 'containment', 'success', 'said', 'mr', 'thanapol', 'said', 'pandemic', 'catalyst', 'tourism', 'disruption', 'travel', 'companies', 'adapt', 'digital', 'transformation', 'within', 'years', 'changes', 'consumer', 'behaviour', 'stagnant', 'economy', 'said', 'means', 'shifting', 'way', 'business', 'offline', 'online', 'platforms', 'prior', 'outbreak', 'companies', 'created', 'online', 'store', 'allowing', 'tourists', 'select', 'tour', 'packages', 'mr', 'thanapol', 'also', 'president', 'association', 'domestic', 'travel', 'said', 'government', 'plays', 'crucial', 'role', 'promoting', 'domestic', 'trips', 'subsidising', 'travel', 'costs', 'urged', 'government', 'help', 'tour', 'operators', 'encouraging', 'state', 'agencies', 'take', 'domestic', 'trips', 'segment', 'still', 'purchasing', 'power', 'past', 'year', 'tourism', 'operators', 'submitted', 'government', 'many', 'proposals', 'could', 'helped', 'staff', 'families', 'hit', 'dead', 'end', 'said', 'mr', 'thanapol', 'government', 'offer', 'financial', 'aid', 'least', 'stimulate', 'demand', 'introducing', 'new', 'tourism', 'campaigns', 'said', 'support', 'helps', 'operators', 'generate', 'income', 'waiting', 'country', 'reopen', 'association', 'cut', 'goal', 'domestic', 'trips', 'million', 'million', 'year', 'mr', 'thanapol', 'said', 'strength', 'tourism', 'rebound', 'largely', 'depend', 'pace', 'vaccinations', 'well', 'confidence', 'domestic', 'tourists']\n"
          ],
          "name": "stdout"
        }
      ]
    },
    {
      "cell_type": "code",
      "metadata": {
        "id": "xt99vlKNLUJl"
      },
      "source": [
        "# Stemming is reducing various word forms into a single one, using the word root.\n",
        "# For example, inflation, inflationary -> inflat\n",
        "\n",
        "def Stemmer(tokenized_words):\n",
        "    ps = PorterStemmer()\n",
        "    StemmedList = []\n",
        "    for word in tokenized_words:\n",
        "        StemmedList.append(ps.stem(word))\n",
        "    return StemmedList"
      ],
      "execution_count": null,
      "outputs": []
    },
    {
      "cell_type": "code",
      "metadata": {
        "id": "851k32MSLUJm"
      },
      "source": [
        "words_1_stemmed = Stemmer(words_1)\n",
        "words_2_stemmed = Stemmer(words_2)"
      ],
      "execution_count": null,
      "outputs": []
    },
    {
      "cell_type": "code",
      "metadata": {
        "id": "XKH5Vq1HLUJm",
        "colab": {
          "base_uri": "https://localhost:8080/"
        },
        "outputId": "cf3e1bbd-c6cd-4e77-b147-a6245aa5b994"
      },
      "source": [
        "print(words_2_stemmed)"
      ],
      "execution_count": null,
      "outputs": [
        {
          "output_type": "stream",
          "text": [
            "['thanapol', 'cheewarattanaporn', 'presid', 'associ', 'domest', 'travel', 'global', 'pandem', 'mark', 'sever', 'crisi', 'year', 'thai', 'tourism', 'number', 'intern', 'arriv', 'bottom', 'million', 'last', 'year', 'compar', 'nearli', 'million', 'tight', 'border', 'control', 'outbound', 'market', 'also', 'experienc', 'nosed', 'million', 'trip', 'million', 'last', 'year', 'tour', 'oper', 'major', 'driver', 'local', 'economi', 'inevit', 'struggl', 'maintain', 'busi', 'viru', 'spread', 'last', 'year', 'vaccin', 'unlik', 'save', 'tourism', 'late', 'year', 'earliest', 'thanapol', 'cheewarattanaporn', 'tourism', 'veteran', 'work', 'industri', 'year', 'supervis', 'number', 'tour', 'compani', 'said', 'everyth', 'raze', 'ground', 'confront', 'unpreced', 'global', 'crisi', 'work', 'tour', 'guid', 'visitor', 'mainland', 'sever', 'year', 'took', 'gener', 'manag', 'post', 'qualiti', 'express', 'famili', 'busi', 'establish', 'novemb', 'conduct', 'inbound', 'outbound', 'tour', 'qualiti', 'express', 'wide', 'known', 'among', 'local', 'outbound', 'tour', 'oper', 'market', 'share', 'popular', 'destin', 'china', 'japan', 'vietnam', 'market', 'share', 'eastern', 'europ', 'back', 'compani', 'target', 'market', 'afford', 'price', 'give', 'peopl', 'oversea', 'travel', 'experi', 'said', 'prior', 'outbreak', 'outbound', 'market', 'wit', 'impress', 'growth', 'compani', 'abl', 'diversifi', 'cruis', 'tour', 'trip', 'bangkok', 'laem', 'chabang', 'port', 'singapor', 'river', 'cruis', 'europ', 'apart', 'retail', 'tour', 'packag', 'mr', 'thanapol', 'also', 'set', 'go', 'holiday', 'tour', 'march', 'wholesal', 'travel', 'agent', 'offer', 'tourism', 'product', 'servic', 'tour', 'compani', 'go', 'holiday', 'abl', 'captur', 'market', 'share', 'outbound', 'inbound', 'tourism', 'around', 'respect', 'tangmotour', 'domest', 'outbound', 'tour', 'compani', 'establish', 'may', 'mr', 'thanapol', 'saw', 'opportun', 'domest', 'market', 'said', 'demand', 'custom', 'want', 'explor', 'countri', 'instead', 'travel', 'abroad', 'local', 'destin', 'like', 'dark', 'hors', 'million', 'tourist', 'fli', 'across', 'globe', 'visit', 'countri', 'overlook', 'place', 'live', 'close', 'said', 'mr', 'thanapol', 'would', 'like', 'highlight', 'domest', 'tourism', 'local', 'tangmotour', 'market', 'share', 'said', 'domest', 'market', 'focu', 'sustain', 'busi', 'border', 'reopen', 'mani', 'countri', 'includ', 'thailand', 'face', 'new', 'wave', 'infect', 'vaccin', 'reopen', 'polici', 'remain', 'unclear', 'said', 'mr', 'thanapol', 'presid', 'tangmotour', 'way', 'shift', 'domest', 'tourism', 'high', 'volatil', 'local', 'infect', 'compani', 'revis', 'busi', 'plan', 'daili', 'basi', 'said', 'mr', 'thanapol', 'estim', 'inbound', 'tourist', 'asia', 'come', 'back', 'octob', 'outbound', 'market', 'expect', 'restart', 'earli', 'next', 'year', 'southeast', 'asia', 'follow', 'asia', 'gener', 'countri', 'procur', 'vaccin', 'mass', 'inocul', 'importantli', 'tourism', 'activ', 'includ', 'inbound', 'outbound', 'travel', 'first', 'stage', 'need', 'conduct', 'tour', 'oper', 'ensur', 'high', 'level', 'safeti', 'allow', 'better', 'commun', 'tourist', 'case', 'viru', 'alert', 'said', 'might', 'take', 'around', 'four', 'year', 'climb', 'back', 'level', 'revenu', 'assum', 'tourist', 'undergo', 'quarantin', 'said', 'mr', 'thanapol', 'number', 'staff', 'tourism', 'compani', 'level', 'pandem', 'peopl', 'averag', 'effort', 'streamlin', 'cost', 'secur', 'liquid', 'said', 'go', 'holiday', 'tour', 'close', 'temporarili', 'mr', 'thanapol', 'said', 'recoveri', 'domest', 'tourism', 'start', 'take', 'shape', 'fourth', 'quarter', 'last', 'year', 'compani', 'call', 'staff', 'back', 'work', 'prepar', 'stimulu', 'campaign', 'senior', 'travel', 'stimulu', 'await', 'cabinet', 'approv', 'yet', 'new', 'outbreak', 'may', 'cloud', 'futur', 'market', 'end', 'march', 'everyon', 'want', 'assur', 'contain', 'success', 'said', 'mr', 'thanapol', 'said', 'pandem', 'catalyst', 'tourism', 'disrupt', 'travel', 'compani', 'adapt', 'digit', 'transform', 'within', 'year', 'chang', 'consum', 'behaviour', 'stagnant', 'economi', 'said', 'mean', 'shift', 'way', 'busi', 'offlin', 'onlin', 'platform', 'prior', 'outbreak', 'compani', 'creat', 'onlin', 'store', 'allow', 'tourist', 'select', 'tour', 'packag', 'mr', 'thanapol', 'also', 'presid', 'associ', 'domest', 'travel', 'said', 'govern', 'play', 'crucial', 'role', 'promot', 'domest', 'trip', 'subsidis', 'travel', 'cost', 'urg', 'govern', 'help', 'tour', 'oper', 'encourag', 'state', 'agenc', 'take', 'domest', 'trip', 'segment', 'still', 'purchas', 'power', 'past', 'year', 'tourism', 'oper', 'submit', 'govern', 'mani', 'propos', 'could', 'help', 'staff', 'famili', 'hit', 'dead', 'end', 'said', 'mr', 'thanapol', 'govern', 'offer', 'financi', 'aid', 'least', 'stimul', 'demand', 'introduc', 'new', 'tourism', 'campaign', 'said', 'support', 'help', 'oper', 'gener', 'incom', 'wait', 'countri', 'reopen', 'associ', 'cut', 'goal', 'domest', 'trip', 'million', 'million', 'year', 'mr', 'thanapol', 'said', 'strength', 'tourism', 'rebound', 'larg', 'depend', 'pace', 'vaccin', 'well', 'confid', 'domest', 'tourist']\n"
          ],
          "name": "stdout"
        }
      ]
    },
    {
      "cell_type": "markdown",
      "metadata": {
        "id": "BgNOgw5gLUJn"
      },
      "source": [
        "**There are other forms that did better than stemming such as Lemmatization that converts better to good. This requires dictionary look-up, and part-of-speech tagging before proceeding. This leads to the classic trade-off: accuracy vs performance (like what I discussed last week).**"
      ]
    },
    {
      "cell_type": "markdown",
      "metadata": {
        "id": "GAy2QupcLUJn"
      },
      "source": [
        "### STEP 3: Generate a toy example on Economic Policy Uncertainty Index (EPU)  \n",
        "The purpose of this final step is to generate true or false label on the news article. True label indicates that the article is related to policy. In index calculation, the higher it is (after normalization), the higher uncertainty level the journalists (public) perceived."
      ]
    },
    {
      "cell_type": "code",
      "metadata": {
        "id": "9bvzwXAjLUJo"
      },
      "source": [
        "# P-tags are words related to policy. This directly captures policy-related variables. \n",
        "# E-tags are words about economics.\n",
        "# U-tags are words about uncertainties.\n",
        "P_Tags = ['bank', 'credit', 'covid', 'government', 'tax', 'spend']\n",
        "E_Tags = ['economy']\n",
        "U_Tags = ['uncertain']"
      ],
      "execution_count": null,
      "outputs": []
    },
    {
      "cell_type": "code",
      "metadata": {
        "id": "5kx2ppcMLUJo"
      },
      "source": [
        "def CheckEPU(word_list, P_tags, E_tags, U_tags):\n",
        "    \n",
        "    P_tags = Stemmer(P_tags)\n",
        "    E_tags = Stemmer(E_tags)\n",
        "    U_tags = Stemmer(U_tags)\n",
        "    \n",
        "    P_checked, E_checked, U_checked = False, False, False\n",
        "    \n",
        "    # For P, E and U tags, we require that the article contains one of these key terms\n",
        "    for word in word_list:\n",
        "        if word in P_tags:\n",
        "            P_checked = True\n",
        "            break\n",
        "            \n",
        "    for word in word_list:\n",
        "        if word in E_tags:\n",
        "            E_checked = True\n",
        "            break\n",
        "            \n",
        "    for word in word_list:\n",
        "        if word in U_tags:\n",
        "            U_checked = True\n",
        "            break\n",
        "    \n",
        "    # If the article contains words in P, E and U tags, then return True\n",
        "    if P_checked or E_checked or U_checked:\n",
        "        return True\n",
        "    \n",
        "    return False"
      ],
      "execution_count": null,
      "outputs": []
    },
    {
      "cell_type": "code",
      "metadata": {
        "id": "2zEdO2G7LUJp",
        "colab": {
          "base_uri": "https://localhost:8080/"
        },
        "outputId": "a6835b1a-bd87-4202-e073-7243f68348df"
      },
      "source": [
        "Article1_EPU = CheckEPU(words_1_stemmed, P_Tags, E_Tags, U_Tags)\n",
        "Article2_EPU = CheckEPU(words_2_stemmed, P_Tags, E_Tags, U_Tags)\n",
        "\n",
        "print(\"Economic Policy Uncertainty buckets on Article 1: {}\".format(str(Article1_EPU)))\n",
        "print(\"Economic Policy Uncertainty buckets on Article 2: {}\".format(str(Article2_EPU)))"
      ],
      "execution_count": null,
      "outputs": [
        {
          "output_type": "stream",
          "text": [
            "Economic Policy Uncertainty buckets on Article 1: True\n",
            "Economic Policy Uncertainty buckets on Article 2: True\n"
          ],
          "name": "stdout"
        }
      ]
    },
    {
      "cell_type": "markdown",
      "metadata": {
        "id": "EJqr80xULUJp"
      },
      "source": [
        "**This notebook illustrates how Economic Policy Uncertainty is detected on the news article in a toy setting. In reality, this requires much more effort in audit study, pilot study and selecting P terms in order to generate an accurate index.**    \n",
        "  \n",
        "**Inspiration from**: Baker, S.R., Bloom, N. and Davis, S.J., 2016. Measuring economic policy uncertainty. *The quarterly journal of economics, 131*(4), pp.1593-1636."
      ]
    },
    {
      "cell_type": "code",
      "metadata": {
        "id": "K3UcN8tSLUJp"
      },
      "source": [
        ""
      ],
      "execution_count": null,
      "outputs": []
    }
  ]
}